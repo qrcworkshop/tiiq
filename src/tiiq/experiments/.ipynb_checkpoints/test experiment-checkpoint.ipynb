{
 "cells": [
  {
   "cell_type": "code",
   "execution_count": 1,
   "id": "e8ff6bdd-2708-458d-8c2c-c85f88b80433",
   "metadata": {},
   "outputs": [
    {
     "ename": "ModuleNotFoundError",
     "evalue": "No module named 'tiiq'",
     "output_type": "error",
     "traceback": [
      "\u001b[1;31m---------------------------------------------------------------------------\u001b[0m",
      "\u001b[1;31mModuleNotFoundError\u001b[0m                       Traceback (most recent call last)",
      "\u001b[1;32m~\\AppData\\Local\\Temp/ipykernel_34684/3254340057.py\u001b[0m in \u001b[0;36m<module>\u001b[1;34m\u001b[0m\n\u001b[1;32m----> 1\u001b[1;33m \u001b[1;32mfrom\u001b[0m \u001b[0mtiiq\u001b[0m\u001b[1;33m.\u001b[0m\u001b[0minstruments\u001b[0m\u001b[1;33m.\u001b[0m\u001b[0minstrument_controller\u001b[0m \u001b[1;32mimport\u001b[0m \u001b[0mInstrumentController\u001b[0m\u001b[1;33m\u001b[0m\u001b[1;33m\u001b[0m\u001b[0m\n\u001b[0m",
      "\u001b[1;31mModuleNotFoundError\u001b[0m: No module named 'tiiq'"
     ]
    }
   ],
   "source": [
    "from tiiq.instruments.instrument_controller import InstrumentController"
   ]
  },
  {
   "cell_type": "code",
   "execution_count": null,
   "id": "e777ca38-0a18-4965-a2b5-ab8162f0a2c4",
   "metadata": {},
   "outputs": [],
   "source": [
    "ic = InstrumentController()"
   ]
  },
  {
   "cell_type": "code",
   "execution_count": null,
   "id": "da91b090-cc21-44d4-9842-729474970f41",
   "metadata": {},
   "outputs": [],
   "source": [
    "QRM_settings = {\n",
    "\t\"data_dictionary\": \"quantify-data/\",\n",
    "\t\"ref_clock\": \"external\",\n",
    "\t\"start_sample\": 130,\n",
    "\t\"hardware_avg\": 1024,\n",
    "\t\"integration_length\": 600,\n",
    "\t\"sampling_rate\": 1e9,\n",
    "\t\"mode\": \"ssb\"\n",
    "        }"
   ]
  },
  {
   "cell_type": "code",
   "execution_count": null,
   "id": "4b288604-10e5-4d9e-b1bd-10c8fb0472f9",
   "metadata": {},
   "outputs": [],
   "source": [
    "ic.setup(LO_qcm_freq= 8.3e9, LO_qcm_power= 10, LO_qrm_freq= 7.778e9, LO_qrm_power=13, QRM_settings= QRM_settings)"
   ]
  }
 ],
 "metadata": {
  "kernelspec": {
   "display_name": "Quantum Env",
   "language": "python",
   "name": "quantum"
  },
  "language_info": {
   "codemirror_mode": {
    "name": "ipython",
    "version": 3
   },
   "file_extension": ".py",
   "mimetype": "text/x-python",
   "name": "python",
   "nbconvert_exporter": "python",
   "pygments_lexer": "ipython3",
   "version": "3.8.12"
  }
 },
 "nbformat": 4,
 "nbformat_minor": 5
}
